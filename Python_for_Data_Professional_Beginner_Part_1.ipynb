{
  "nbformat": 4,
  "nbformat_minor": 0,
  "metadata": {
    "colab": {
      "name": "Python for Data Professional Beginner - Part 1.ipynb",
      "provenance": [],
      "collapsed_sections": []
    },
    "kernelspec": {
      "name": "python3",
      "display_name": "Python 3"
    },
    "language_info": {
      "name": "python"
    }
  },
  "cells": [
    {
      "cell_type": "markdown",
      "source": [
        "**Chapter 1**"
      ],
      "metadata": {
        "id": "a62ArvUfaOxc"
      }
    },
    {
      "cell_type": "markdown",
      "source": [
        "**Program Pertama : Hello World**"
      ],
      "metadata": {
        "id": "Pg4xtn6XYufO"
      }
    },
    {
      "cell_type": "code",
      "execution_count": null,
      "metadata": {
        "colab": {
          "base_uri": "https://localhost:8080/"
        },
        "id": "QHXF2QSbXwwc",
        "outputId": "bb34e749-74b8-4415-c32a-2f59526f02af"
      },
      "outputs": [
        {
          "output_type": "stream",
          "name": "stdout",
          "text": [
            "Hello World!\n"
          ]
        }
      ],
      "source": [
        "print(\"Hello World!\")"
      ]
    },
    {
      "cell_type": "markdown",
      "source": [
        "**Program Pertamaku**"
      ],
      "metadata": {
        "id": "oBnQSzE9Y3SQ"
      }
    },
    {
      "cell_type": "code",
      "source": [
        "print(\"Halo Dunia\")\n",
        "print(\"Riset Bahasa Python\")"
      ],
      "metadata": {
        "colab": {
          "base_uri": "https://localhost:8080/"
        },
        "id": "OsTcOiYiX5yA",
        "outputId": "7459fefb-7c9b-4d2a-c9b8-1a2206052db3"
      },
      "execution_count": null,
      "outputs": [
        {
          "output_type": "stream",
          "name": "stdout",
          "text": [
            "Halo Dunia\n",
            "Riset Bahasa Python\n"
          ]
        }
      ]
    },
    {
      "cell_type": "markdown",
      "source": [
        "**Struktur Program Python - Part 1**"
      ],
      "metadata": {
        "id": "6lRxl4mtZFr_"
      }
    },
    {
      "cell_type": "code",
      "source": [
        "# Statement\n",
        "print(\"Belajar Python menyenangkan\") \n",
        "print(\"Halo Dunia\")\n",
        "print(\"Hello World!\")\n",
        "# Variables & Literals\n",
        "bilangan1 = 5\n",
        "bilangan2 = 10\n",
        "kalimat1 = \"Belajar Bahasa Python\"\n",
        "# Operators\n",
        "print(bilangan1 + bilangan2)"
      ],
      "metadata": {
        "colab": {
          "base_uri": "https://localhost:8080/"
        },
        "id": "WgopCtC_X9c2",
        "outputId": "9ac4f756-b332-4e18-aea1-accd1e224cff"
      },
      "execution_count": null,
      "outputs": [
        {
          "output_type": "stream",
          "name": "stdout",
          "text": [
            "Belajar Python menyenangkan\n",
            "Halo Dunia\n",
            "Hello World!\n",
            "15\n"
          ]
        }
      ]
    },
    {
      "cell_type": "markdown",
      "source": [
        "**Tugas Praktek**"
      ],
      "metadata": {
        "id": "SqElipbQZIEp"
      }
    },
    {
      "cell_type": "code",
      "source": [
        "bilangan1 = 20\n",
        "bilangan2 = 10\n",
        "print(bilangan1 - bilangan2)"
      ],
      "metadata": {
        "colab": {
          "base_uri": "https://localhost:8080/"
        },
        "id": "-KJj4s_RYUx8",
        "outputId": "d34d2713-0f9b-42c1-fede-ae8c75d67eae"
      },
      "execution_count": null,
      "outputs": [
        {
          "output_type": "stream",
          "name": "stdout",
          "text": [
            "10\n"
          ]
        }
      ]
    },
    {
      "cell_type": "markdown",
      "source": [
        "**Tugas Praktek**"
      ],
      "metadata": {
        "id": "NGxVoaupZOYZ"
      }
    },
    {
      "cell_type": "code",
      "source": [
        "harga_asli = 20000\n",
        "potongan = 2000\n",
        "harga_setelah_potongan = harga_asli - potongan\n",
        "harga_final = harga_setelah_potongan * 1.1\n",
        "print(harga_final)"
      ],
      "metadata": {
        "colab": {
          "base_uri": "https://localhost:8080/"
        },
        "id": "EbvZbAXxYae5",
        "outputId": "da729d72-e900-419e-b151-466584f0a160"
      },
      "execution_count": null,
      "outputs": [
        {
          "output_type": "stream",
          "name": "stdout",
          "text": [
            "19800.0\n"
          ]
        }
      ]
    },
    {
      "cell_type": "markdown",
      "source": [
        "**Chapter 2**"
      ],
      "metadata": {
        "id": "7DDoyv6faZyi"
      }
    },
    {
      "cell_type": "markdown",
      "source": [
        "**Tugas Praktek**"
      ],
      "metadata": {
        "id": "EHJaq8GNaK4i"
      }
    },
    {
      "cell_type": "code",
      "source": [
        "# Data yang dinyatakan ke dalam dictionary\n",
        "sepatu = {\"nama\": \"Sepatu Niko\", \"harga\": 150000, \"diskon\": 30000} \n",
        "baju = {\"nama\": \"Baju Unikloh\", \"harga\": 80000, \"diskon\": 8000} \n",
        "celana = {\"nama\": \"Celana Lepis\", \"harga\": 200000, \"diskon\": 60000}\n",
        "# Hitunglah harga masing-masing data setelah dikurangi diskon\n",
        "harga_sepatu = sepatu[\"harga\"] - sepatu[\"diskon\"] \n",
        "harga_baju = baju[\"harga\"] - baju[\"diskon\"]\n",
        "harga_celana = celana[\"harga\"] - celana[\"diskon\"]\n",
        "# Hitung harga total\n",
        "total_harga = harga_sepatu + harga_baju + harga_celana\n",
        "# Hitung harga kena pajak\n",
        "total_pajak = total_harga * 0.1\n",
        "# Cetak total_harga + total_pajak\n",
        "print(total_harga + total_pajak)"
      ],
      "metadata": {
        "id": "EbdoEFI2aFSA"
      },
      "execution_count": null,
      "outputs": []
    },
    {
      "cell_type": "markdown",
      "source": [
        "**Sequence Type – Part 1**"
      ],
      "metadata": {
        "id": "MnDqN8fya2gR"
      }
    },
    {
      "cell_type": "code",
      "source": [
        "contoh_list = [1,'dua', 3, 4.0, 5]\n",
        "print(contoh_list[0])\n",
        "print(contoh_list[3])\n",
        "contoh_list = [1, 'dua', 3, 4.0, 5 ]\n",
        "contoh_list[3] = 'empat'\n",
        "print(contoh_list[3])"
      ],
      "metadata": {
        "colab": {
          "base_uri": "https://localhost:8080/"
        },
        "id": "0q4eA7YLadG8",
        "outputId": "a93a2ac0-239b-461a-ed59-c5bce299680a"
      },
      "execution_count": null,
      "outputs": [
        {
          "output_type": "stream",
          "name": "stdout",
          "text": [
            "1\n",
            "4.0\n",
            "empat\n"
          ]
        }
      ]
    },
    {
      "cell_type": "markdown",
      "source": [
        "**Sequence Type – Part 2**"
      ],
      "metadata": {
        "id": "uM-ztMkobHWR"
      }
    },
    {
      "cell_type": "code",
      "source": [
        "contoh_tuple = (\"januari\", \"februari\", \"maret\", \"april\")\n",
        "print(contoh_tuple[0])\n",
        "contoh_tuple = (\"januari\", \"februari\", \"maret\", \"april\")\n",
        "contoh_tuple[0] = \"desember\""
      ],
      "metadata": {
        "colab": {
          "base_uri": "https://localhost:8080/",
          "height": 217
        },
        "id": "_1ICw08UbBPD",
        "outputId": "39955000-e4cd-46be-b21c-5469330b449b"
      },
      "execution_count": null,
      "outputs": [
        {
          "output_type": "stream",
          "name": "stdout",
          "text": [
            "januari\n"
          ]
        },
        {
          "output_type": "error",
          "ename": "TypeError",
          "evalue": "ignored",
          "traceback": [
            "\u001b[0;31m---------------------------------------------------------------------------\u001b[0m",
            "\u001b[0;31mTypeError\u001b[0m                                 Traceback (most recent call last)",
            "\u001b[0;32m<ipython-input-7-9cdfaf8856d7>\u001b[0m in \u001b[0;36m<module>\u001b[0;34m()\u001b[0m\n\u001b[1;32m      2\u001b[0m \u001b[0mprint\u001b[0m\u001b[0;34m(\u001b[0m\u001b[0mcontoh_tuple\u001b[0m\u001b[0;34m[\u001b[0m\u001b[0;36m0\u001b[0m\u001b[0;34m]\u001b[0m\u001b[0;34m)\u001b[0m\u001b[0;34m\u001b[0m\u001b[0;34m\u001b[0m\u001b[0m\n\u001b[1;32m      3\u001b[0m \u001b[0mcontoh_tuple\u001b[0m \u001b[0;34m=\u001b[0m \u001b[0;34m(\u001b[0m\u001b[0;34m\"januari\"\u001b[0m\u001b[0;34m,\u001b[0m \u001b[0;34m\"februari\"\u001b[0m\u001b[0;34m,\u001b[0m \u001b[0;34m\"maret\"\u001b[0m\u001b[0;34m,\u001b[0m \u001b[0;34m\"april\"\u001b[0m\u001b[0;34m)\u001b[0m\u001b[0;34m\u001b[0m\u001b[0;34m\u001b[0m\u001b[0m\n\u001b[0;32m----> 4\u001b[0;31m \u001b[0mcontoh_tuple\u001b[0m\u001b[0;34m[\u001b[0m\u001b[0;36m0\u001b[0m\u001b[0;34m]\u001b[0m \u001b[0;34m=\u001b[0m \u001b[0;34m\"desember\"\u001b[0m\u001b[0;34m\u001b[0m\u001b[0;34m\u001b[0m\u001b[0m\n\u001b[0m",
            "\u001b[0;31mTypeError\u001b[0m: 'tuple' object does not support item assignment"
          ]
        }
      ]
    },
    {
      "cell_type": "markdown",
      "source": [
        "**Set Type**"
      ],
      "metadata": {
        "id": "2px__BNmbR3-"
      }
    },
    {
      "cell_type": "code",
      "source": [
        "contoh_list = ['Dewi', 'Budi', 'Cici', 'Linda', 'Cici'] \n",
        "print(contoh_list)\n",
        "contoh_set = {'Dewi', 'Budi', 'Cici', 'Linda', 'Cici'}\n",
        "print(contoh_set)\n",
        "contoh_frozen_set = ({'Dewi', 'Budi', 'Cici', 'Linda', 'Cici'})\n",
        "print(contoh_frozen_set)"
      ],
      "metadata": {
        "colab": {
          "base_uri": "https://localhost:8080/"
        },
        "id": "-kW6y85NbNoS",
        "outputId": "61d41e0f-b308-4e50-bf1a-458e8bd7ac75"
      },
      "execution_count": null,
      "outputs": [
        {
          "output_type": "stream",
          "name": "stdout",
          "text": [
            "['Dewi', 'Budi', 'Cici', 'Linda', 'Cici']\n",
            "{'Linda', 'Budi', 'Cici', 'Dewi'}\n",
            "{'Linda', 'Budi', 'Cici', 'Dewi'}\n"
          ]
        }
      ]
    },
    {
      "cell_type": "markdown",
      "source": [
        "**Mapping Type**"
      ],
      "metadata": {
        "id": "LDBlH6gpcbQW"
      }
    },
    {
      "cell_type": "code",
      "source": [
        "person = {'Nama':'John Doe','Pekerjaan' : 'Programmer'}\n",
        "print(person['Nama'])\n",
        "print(person['Pekerjaan'])"
      ],
      "metadata": {
        "colab": {
          "base_uri": "https://localhost:8080/"
        },
        "id": "UiEv8DwCcYAL",
        "outputId": "1102be46-1942-4830-8799-af84e7aca4ec"
      },
      "execution_count": null,
      "outputs": [
        {
          "output_type": "stream",
          "name": "stdout",
          "text": [
            "John Doe\n",
            "Programmer\n"
          ]
        }
      ]
    },
    {
      "cell_type": "markdown",
      "source": [
        "**Tugas Praktek**"
      ],
      "metadata": {
        "id": "VYquonhFc16X"
      }
    },
    {
      "cell_type": "code",
      "source": [
        "sepatu = {\"nama\": \"Sepatu Niko\", \"harga\": 150000, \"diskon\": 30000 }\n",
        "baju = {\"nama\": \"Baju Unikloh\",\"harga\":80000, \"diskon\":8000}\n",
        "celana = {\"nama\":\"Celana Lepis\", \"harga\":200000, \"diskon\":60000}"
      ],
      "metadata": {
        "id": "Ds-_AGzCcdwA"
      },
      "execution_count": null,
      "outputs": []
    },
    {
      "cell_type": "markdown",
      "source": [
        "**Tugas Praktek**"
      ],
      "metadata": {
        "id": "FKrcfUuSdT-8"
      }
    },
    {
      "cell_type": "code",
      "source": [
        "sepatu = {\"nama\": \"Sepatu Niko\", \"harga\": 150000, \"diskon\": 30000} \n",
        "baju = {\"nama\": \"Baju Unikloh\", \"harga\": 80000, \"diskon\": 8000} \n",
        "celana = {\"nama\": \"Celana Lepis\", \"harga\": 200000, \"diskon\": 60000} \n",
        "daftar_belanja = [sepatu, baju, celana]"
      ],
      "metadata": {
        "id": "Xk-NiTK_dCh-"
      },
      "execution_count": null,
      "outputs": []
    },
    {
      "cell_type": "markdown",
      "source": [
        "**Chapter 3**"
      ],
      "metadata": {
        "id": "3oK0swi3dyDA"
      }
    },
    {
      "cell_type": "markdown",
      "source": [
        "**Tugas Praktek**"
      ],
      "metadata": {
        "id": "wvAiV6shd5qP"
      }
    },
    {
      "cell_type": "code",
      "source": [
        "sepatu = { \"nama\" : \"Sepatu Niko\", \"harga\": 150000, \"diskon\": 30000 }\n",
        "baju = { \"nama\" : \"Baju Unikloh\", \"harga\": 80000, \"diskon\": 8000 }\n",
        "celana = { \"nama\" : \"Celana Lepis\", \"harga\": 200000, \"diskon\": 60000 }\n",
        "harga_sepatu = sepatu[\"harga\"] - sepatu[\"diskon\"]\n",
        "harga_baju = baju[\"harga\"] - baju[\"diskon\"]\n",
        "harga_celana = celana[\"harga\"] - celana[\"diskon\"]\n",
        "total_harga = (harga_sepatu + harga_baju + harga_celana) * 1.1 \n",
        "print(total_harga)"
      ],
      "metadata": {
        "id": "qv2yI7Andenx"
      },
      "execution_count": null,
      "outputs": []
    },
    {
      "cell_type": "markdown",
      "source": [
        "**Quiiz**"
      ],
      "metadata": {
        "id": "009aJTOyeG0J"
      }
    },
    {
      "cell_type": "code",
      "source": [
        "bil1 = 5\n",
        "bil2 = bil1 // 2\n",
        "print(bil2)"
      ],
      "metadata": {
        "colab": {
          "base_uri": "https://localhost:8080/"
        },
        "id": "VeoXz8pVeEzq",
        "outputId": "e90daba8-0604-45a5-878b-7f8a8313c8f5"
      },
      "execution_count": null,
      "outputs": [
        {
          "output_type": "stream",
          "name": "stdout",
          "text": [
            "2\n"
          ]
        }
      ]
    },
    {
      "cell_type": "markdown",
      "source": [
        "**Quiz**"
      ],
      "metadata": {
        "id": "-7BobOFyh9aO"
      }
    },
    {
      "cell_type": "code",
      "source": [
        "bil1 = 5\n",
        "bil2 = bil1 % 2\n",
        "bil1 *= bil2\n",
        "print(bil1)"
      ],
      "metadata": {
        "id": "-4wa-khkghrh"
      },
      "execution_count": null,
      "outputs": []
    },
    {
      "cell_type": "markdown",
      "source": [
        "**Quiz**"
      ],
      "metadata": {
        "id": "Z8RQQR9jiTnO"
      }
    },
    {
      "cell_type": "code",
      "source": [
        "bil1 = 5\n",
        "bil2 = 10\n",
        "print(bil2 > bil1 and bil2 < 15)"
      ],
      "metadata": {
        "colab": {
          "base_uri": "https://localhost:8080/"
        },
        "id": "p8dK3guViAV7",
        "outputId": "7c2f6cb5-cc10-4a90-d439-73f222efe956"
      },
      "execution_count": null,
      "outputs": [
        {
          "output_type": "stream",
          "name": "stdout",
          "text": [
            "True\n"
          ]
        }
      ]
    },
    {
      "cell_type": "code",
      "source": [
        "bil1 = 5\n",
        "bil2 = bil1 // 2\n",
        "hasil = bil1 <= bil2 or bil1 == 2\n",
        "print(hasil)"
      ],
      "metadata": {
        "colab": {
          "base_uri": "https://localhost:8080/"
        },
        "id": "A6j2HEcbidUS",
        "outputId": "ab203a37-6fd2-4486-c35c-2b4b0b4bfe37"
      },
      "execution_count": null,
      "outputs": [
        {
          "output_type": "stream",
          "name": "stdout",
          "text": [
            "False\n"
          ]
        }
      ]
    },
    {
      "cell_type": "code",
      "source": [
        "bilangan = (5 % 3 ** 2) + (3 + 2 * 2) * (4 - 2) \n",
        "print(bilangan)"
      ],
      "metadata": {
        "colab": {
          "base_uri": "https://localhost:8080/"
        },
        "id": "so-g8CcbjMeQ",
        "outputId": "0a74c733-dd6e-465a-9027-6ca39d6be6f3"
      },
      "execution_count": null,
      "outputs": [
        {
          "output_type": "stream",
          "name": "stdout",
          "text": [
            "19\n"
          ]
        }
      ]
    },
    {
      "cell_type": "markdown",
      "source": [
        "**Nilai Prioritas Operator dalam Python – Part 1**"
      ],
      "metadata": {
        "id": "egwY8S3ejCDu"
      }
    },
    {
      "cell_type": "code",
      "source": [
        "# Kode awal\n",
        "total_harga = 150000\n",
        "potongan_harga = 0.3\n",
        "pajak = 0.1 # pajak dalam persen ~ 10%\n",
        "harga_bayar = 1 - potongan_harga # baris pertama\n",
        "harga_bayar *= total_harga # baris kedua\n",
        "pajak_bayar = pajak * harga_bayar # baris ketiga\n",
        "harga_bayar += pajak_bayar # baris ke-4\n",
        "print(\"Kode awal - harga_bayar=\", harga_bayar)\n",
        "# Penyederhanaan baris kode dengan menerapkan prioritas operator\n",
        "total_harga = 150000\n",
        "potongan_harga = 0.3\n",
        "pajak = 0.1 # pajak dalam persen ~ 10%\n",
        "harga_bayar = (1 - potongan_harga) * total_harga #baris pertama \n",
        "harga_bayar += harga_bayar * pajak # baris kedua\n",
        "print(\"Penyederhanaan kode - harga_bayar=\", harga_bayar)"
      ],
      "metadata": {
        "colab": {
          "base_uri": "https://localhost:8080/"
        },
        "id": "wOfF_XnAi2D2",
        "outputId": "420a6ac7-fadc-4534-cb39-5dcd5ec0e710"
      },
      "execution_count": null,
      "outputs": [
        {
          "output_type": "stream",
          "name": "stdout",
          "text": [
            "Kode awal - harga_bayar= 115500.0\n",
            "Penyederhanaan kode - harga_bayar= 115500.0\n"
          ]
        }
      ]
    },
    {
      "cell_type": "markdown",
      "source": [
        "**Tugas Praktek**"
      ],
      "metadata": {
        "id": "GSYPYZijjWwy"
      }
    },
    {
      "cell_type": "code",
      "source": [
        "sepatu = { \"nama\" : \"Sepatu Niko\", \"harga\": 150000, \"diskon\": 30000 }\n",
        "baju = { \"nama\" : \"Baju Unikloh\", \"harga\": 80000, \"diskon\": 8000 }\n",
        "celana = { \"nama\" : \"Celana Lepis\", \"harga\": 200000, \"diskon\": 60000 }\n",
        "harga_sepatu = sepatu[\"harga\"] - sepatu[\"diskon\"]\n",
        "harga_baju = baju[\"harga\"] - baju[\"diskon\"]\n",
        "harga_celana = celana[\"harga\"] - celana[\"diskon\"]\n",
        "total_harga = (harga_sepatu + harga_baju + harga_celana) * 1.1 \n",
        "print(total_harga)"
      ],
      "metadata": {
        "colab": {
          "base_uri": "https://localhost:8080/"
        },
        "id": "qOuRaqJPjTl8",
        "outputId": "1623145d-aa33-4c4b-95aa-48805edebd24"
      },
      "execution_count": null,
      "outputs": [
        {
          "output_type": "stream",
          "name": "stdout",
          "text": [
            "365200.00000000006\n"
          ]
        }
      ]
    },
    {
      "cell_type": "markdown",
      "source": [
        "**Chapter 4** "
      ],
      "metadata": {
        "id": "FjxJDnD0joTU"
      }
    },
    {
      "cell_type": "markdown",
      "source": [
        "**Python Conditioning for Decision – Part 2**"
      ],
      "metadata": {
        "id": "YPm9VANZkHT6"
      }
    },
    {
      "cell_type": "code",
      "source": [
        "# Statement if\n",
        "x = 4\n",
        "if x %2 == 0: # jika sisa bagi x dengan 2 sama dengan 0\n",
        "    print(\"x habis dibagi dua\") # statemen aksi lebih menjorok ke dalam\n",
        "# Statement if ... elif ... else\n",
        "x = 7\n",
        "if x %2 == 0: # jika sisa bagi x dengan 2 sama dengan 0\n",
        "    print(\"x habis dibagi dua\")\n",
        "elif x %3 == 0: # jika sisa bagi x dengan 3 sama dengan 0\n",
        "    print(\"x habis dibagi tiga\")\n",
        "elif x %5 == 0: # jika sisa bagi x dengan 5 sama dengan 0\n",
        "    print(\"x habis dibagi lima\")\n",
        "else:\n",
        "    print(\"x tidak habis dibagi dua, tiga ataupun lima\")"
      ],
      "metadata": {
        "colab": {
          "base_uri": "https://localhost:8080/"
        },
        "id": "79V0D7CXj8_z",
        "outputId": "b93f66b6-3ccc-4150-82c4-0294d56d50c2"
      },
      "execution_count": null,
      "outputs": [
        {
          "output_type": "stream",
          "name": "stdout",
          "text": [
            "x habis dibagi dua\n",
            "x tidak habis dibagi dua, tiga ataupun lima\n"
          ]
        }
      ]
    },
    {
      "cell_type": "markdown",
      "source": [
        "**Python Conditioning for Decision – Part 3**"
      ],
      "metadata": {
        "id": "VVK-tFLokWUg"
      }
    },
    {
      "cell_type": "code",
      "source": [
        "jam = 13\n",
        "if jam >= 5 and jam < 12: # selama jam di antara 5 s.d. 12\n",
        "    print(\"Selamat pagi!\")\n",
        "elif jam >= 12 and jam < 17: # selama jam di antara 12 s.d. 17\n",
        "    print(\"Selamat siang!\")\n",
        "elif jam >= 17 and jam < 19: # selama jam di antara 17 s.d. 19\n",
        "    print(\"Selamat sore!\")\n",
        "else: # selain kondisi di atas\n",
        "    print(\"Selamat malam!\")"
      ],
      "metadata": {
        "colab": {
          "base_uri": "https://localhost:8080/"
        },
        "id": "gcgUx-DrkJw-",
        "outputId": "ff0e24da-8f6b-412b-b2a4-a628de47f695"
      },
      "execution_count": null,
      "outputs": [
        {
          "output_type": "stream",
          "name": "stdout",
          "text": [
            "Selamat siang!\n"
          ]
        }
      ]
    },
    {
      "cell_type": "markdown",
      "source": [
        "**Tugas Praktek**"
      ],
      "metadata": {
        "id": "y0PCbZxNkg_U"
      }
    },
    {
      "cell_type": "code",
      "source": [
        "tagihan_ke = 'Mr. Yoyo'\n",
        "warehousing = { 'harga_harian': 1000000, 'total_hari':15 } \n",
        "cleansing = { 'harga_harian': 1500000, 'total_hari':10 } \n",
        "integration = { 'harga_harian':2000000, 'total_hari':15 } \n",
        "transform = { 'harga_harian':2500000, 'total_hari':10 }\n",
        "sub_warehousing = warehousing['harga_harian'] * warehousing['total_hari'] \n",
        "sub_cleansing = cleansing['harga_harian'] * cleansing['total_hari'] \n",
        "sub_integration = integration['harga_harian'] * integration['total_hari'] \n",
        "sub_transform = transform['harga_harian'] * transform['total_hari']\n",
        "total_harga = sub_warehousing + sub_cleansing + sub_integration + sub_transform\n",
        "print(\"Tagihan kepada:\") \n",
        "print(tagihan_ke)\n",
        "print(\"Selamat pagi, anda harus membayar tagihan sebesar:\") \n",
        "print(total_harga)"
      ],
      "metadata": {
        "colab": {
          "base_uri": "https://localhost:8080/"
        },
        "id": "hS7rrulBkZVV",
        "outputId": "5c1ba231-03e3-4a26-f7e3-4fece0ee4b08"
      },
      "execution_count": null,
      "outputs": [
        {
          "output_type": "stream",
          "name": "stdout",
          "text": [
            "Tagihan kepada:\n",
            "Mr. Yoyo\n",
            "Selamat pagi, anda harus membayar tagihan sebesar:\n",
            "85000000\n"
          ]
        }
      ]
    },
    {
      "cell_type": "code",
      "source": [
        "jam = 17\n",
        "tagihan_ke = 'Mr. Yoyo'\n",
        "warehousing = { 'harga_harian': 1000000, 'total_hari':15 } \n",
        "cleansing = { 'harga_harian': 1500000, 'total_hari':10 } \n",
        "integration = { 'harga_harian':2000000, 'total_hari':15 } \n",
        "transform = { 'harga_harian':2500000, 'total_hari':10 }\n",
        "sub_warehousing = warehousing['harga_harian']*warehousing['total_hari'] \n",
        "sub_cleansing = cleansing['harga_harian']*cleansing['total_hari'] \n",
        "sub_integration = integration['harga_harian']*integration['total_hari'] \n",
        "sub_transform = transform['harga_harian']*transform['total_hari']\n",
        "total_harga = sub_warehousing+sub_cleansing+sub_integration+sub_transform\n",
        "print(\"Tagihan kepada:\")\n",
        "print(tagihan_ke)\n",
        "if jam > 19:\n",
        "    print(\"Selamat malam, anda harus membayar tagihan sebesar:\")\n",
        "elif jam > 17:\n",
        "    print(\"Selamat sore, anda harus membayar tagihan sebesar:\") \n",
        "elif jam > 12:\n",
        "    print(\"Selamat siang, anda harus membayar tagihan sebesar:\")\n",
        "else:\n",
        "    print(\"Selamat pagi, anda harus membayar tagihan sebesar:\") \n",
        "print(total_harga)"
      ],
      "metadata": {
        "colab": {
          "base_uri": "https://localhost:8080/"
        },
        "id": "rkZ4S6oKki02",
        "outputId": "c15dc73e-6b75-410b-d3a3-dfa84c5f7c51"
      },
      "execution_count": null,
      "outputs": [
        {
          "output_type": "stream",
          "name": "stdout",
          "text": [
            "Tagihan kepada:\n",
            "Mr. Yoyo\n",
            "Selamat siang, anda harus membayar tagihan sebesar:\n",
            "85000000\n"
          ]
        }
      ]
    },
    {
      "cell_type": "markdown",
      "source": [
        "**Python while loops – Part 1**"
      ],
      "metadata": {
        "id": "5-KxLUOclZtr"
      }
    },
    {
      "cell_type": "code",
      "source": [
        "# Tagihan\n",
        "tagihan = [50000, 75000, 125000, 300000, 200000]\n",
        "# Tanpa menggunakan while loop\n",
        "total_tagihan = tagihan[0] + tagihan[1] + tagihan[2] + tagihan[3] + tagihan[4]\n",
        "print(total_tagihan)\n",
        "# Dengan menggunakan while loop\n",
        "i = 0 # sebuah variabel untuk mengakses setiap elemen tagihan satu per satu\n",
        "jumlah_tagihan = len(tagihan) # panjang (jumlah elemen dalam) list tagihan\n",
        "total_tagihan = 0 # mula-mula, set total_tagihan ke 0\n",
        "while i < jumlah_tagihan: # selama nilai i kurang dari jumlah_tagihan\n",
        "    total_tagihan += tagihan[i] # tambahkan tagihan[i] ke total_tagihan\n",
        "    i += 1 # tambahkan nilai i dengan 1 untuk memproses tagihan selanjutnya.\n",
        "print(total_tagihan)"
      ],
      "metadata": {
        "colab": {
          "base_uri": "https://localhost:8080/"
        },
        "id": "HpghnTzckvta",
        "outputId": "394a84f5-61ed-480b-e501-e7e81fe8e6db"
      },
      "execution_count": null,
      "outputs": [
        {
          "output_type": "stream",
          "name": "stdout",
          "text": [
            "750000\n",
            "750000\n"
          ]
        }
      ]
    },
    {
      "cell_type": "markdown",
      "source": [
        "**Python while loops – Part 2**"
      ],
      "metadata": {
        "id": "Q1cwDJJxljxL"
      }
    },
    {
      "cell_type": "code",
      "source": [
        "tagihan = [50000, 75000, -150000, 125000, 300000, -50000, 200000]\n",
        "i = 0\n",
        "jumlah_tagihan = len(tagihan)\n",
        "total_tagihan = 0\n",
        "while i < jumlah_tagihan:\n",
        "    # jika terdapat tagihan ke-i yang bernilai minus (di bawah nol),\n",
        "    # pengulangan akan dihentikan\n",
        "    if tagihan[i] < 0:\n",
        "        total_tagihan = -1\n",
        "        print(\"terdapat angka minus dalam tagihan, perhitungan dihentikan!\")\n",
        "        break\n",
        "    total_tagihan += tagihan[i]\n",
        "    i += 1\n",
        "print(total_tagihan)"
      ],
      "metadata": {
        "colab": {
          "base_uri": "https://localhost:8080/"
        },
        "id": "c1wYhitzlb4A",
        "outputId": "15bca998-9de3-47f5-8fd3-3057eecaa2d1"
      },
      "execution_count": null,
      "outputs": [
        {
          "output_type": "stream",
          "name": "stdout",
          "text": [
            "terdapat angka minus dalam tagihan, perhitungan dihentikan!\n",
            "-1\n"
          ]
        }
      ]
    },
    {
      "cell_type": "markdown",
      "source": [
        "**Python while loops – Part 3**"
      ],
      "metadata": {
        "id": "0qVuxJDyls1i"
      }
    },
    {
      "cell_type": "code",
      "source": [
        "tagihan = [50000, 75000, -150000, 125000, 300000, -50000, 200000]\n",
        "i = 0\n",
        "jumlah_tagihan = len(tagihan)\n",
        "total_tagihan = 0\n",
        "while i < jumlah_tagihan:\n",
        "    # jika terdapat tagihan ke-i yang bernilai minus (di bawah nol),\n",
        "    # abaikan tagihan ke-i dan lanjutkan ke tagihan berikutnya\n",
        "    if tagihan[i] < 0:\n",
        "        i += 1\n",
        "        continue\n",
        "    total_tagihan += tagihan[i]\n",
        "    i += 1\n",
        "print(total_tagihan)"
      ],
      "metadata": {
        "id": "HaeXVFR_lpyF"
      },
      "execution_count": null,
      "outputs": []
    },
    {
      "cell_type": "markdown",
      "source": [
        "**Python for loops – Part 1**"
      ],
      "metadata": {
        "id": "r8t1huVll37G"
      }
    },
    {
      "cell_type": "code",
      "source": [
        "list_tagihan = [50000, 75000, -150000, 125000, 300000, -50000, 200000]\n",
        "total_tagihan = 0\n",
        "for tagihan in list_tagihan: # untuk setiap tagihan dalam list_tagihan\n",
        "    total_tagihan += tagihan # tambahkan tagihan ke total_tagihan\n",
        "print(total_tagihan)"
      ],
      "metadata": {
        "colab": {
          "base_uri": "https://localhost:8080/"
        },
        "id": "1SZ2K5ddluh2",
        "outputId": "c0e0351b-cdad-4a78-9e54-a8d9218a42b7"
      },
      "execution_count": null,
      "outputs": [
        {
          "output_type": "stream",
          "name": "stdout",
          "text": [
            "550000\n"
          ]
        }
      ]
    },
    {
      "cell_type": "markdown",
      "source": [
        "**Python for loops – Part 2**"
      ],
      "metadata": {
        "id": "mdYOtfrfmIAW"
      }
    },
    {
      "cell_type": "code",
      "source": [
        "list_tagihan = [50000, 75000, -150000, 125000, 300000, -50000, 200000]\n",
        "\n",
        "# For loops with break\n",
        "print(\"For loops with break\")\n",
        "total_tagihan_break = 0\n",
        "for tagihan in list_tagihan:\n",
        "    if tagihan < 0:\n",
        "        print(\"Terdapat angka minus dalam tagihan, perhitungan dihentikan!\")\n",
        "        break\n",
        "    total_tagihan_break += tagihan\n",
        "print(\"Total tagihan %d.\" % total_tagihan_break)\n",
        "print()\n",
        "\n",
        "# For loops with continue\n",
        "print(\"For loops with continue\")\n",
        "total_tagihan_continue = 0\n",
        "for tagihan in list_tagihan:\n",
        "    if tagihan < 0:\n",
        "        print(\"Terdapat angka minus dalam tagihan, tagihan %d dilewati!\" % tagihan)\n",
        "        continue\n",
        "    total_tagihan_continue += tagihan\n",
        "print(\"Total tagihan %d.\" % total_tagihan_continue)"
      ],
      "metadata": {
        "colab": {
          "base_uri": "https://localhost:8080/"
        },
        "id": "8mx47qRTmDHb",
        "outputId": "b4a298f8-81a1-4818-e973-d26978a1928e"
      },
      "execution_count": null,
      "outputs": [
        {
          "output_type": "stream",
          "name": "stdout",
          "text": [
            "For loops with break\n",
            "Terdapat angka minus dalam tagihan, perhitungan dihentikan!\n",
            "Total tagihan 125000.\n",
            "\n",
            "For loops with continue\n",
            "Terdapat angka minus dalam tagihan, tagihan -150000 dilewati!\n",
            "Terdapat angka minus dalam tagihan, tagihan -50000 dilewati!\n",
            "Total tagihan 750000.\n"
          ]
        }
      ]
    },
    {
      "cell_type": "markdown",
      "source": [
        "**Python for loops – Part 3**"
      ],
      "metadata": {
        "id": "8RO9i-wWmTzu"
      }
    },
    {
      "cell_type": "code",
      "source": [
        "list_daerah = ['Malang', 'Palembang', 'Medan']\n",
        "list_buah = ['Apel', 'Duku', 'Jeruk']\n",
        "for nama_daerah in list_daerah:\n",
        "    for nama_buah in list_buah:\n",
        "        print(nama_buah+\" \"+nama_daerah)"
      ],
      "metadata": {
        "colab": {
          "base_uri": "https://localhost:8080/"
        },
        "id": "2L9rLNMRmQhW",
        "outputId": "34db68f1-fbae-4149-99a1-c9f77ecf5384"
      },
      "execution_count": null,
      "outputs": [
        {
          "output_type": "stream",
          "name": "stdout",
          "text": [
            "Apel Malang\n",
            "Duku Malang\n",
            "Jeruk Malang\n",
            "Apel Palembang\n",
            "Duku Palembang\n",
            "Jeruk Palembang\n",
            "Apel Medan\n",
            "Duku Medan\n",
            "Jeruk Medan\n"
          ]
        }
      ]
    },
    {
      "cell_type": "markdown",
      "source": [
        "**Tugas Praktek**"
      ],
      "metadata": {
        "id": "8ur4Kfv1mc6F"
      }
    },
    {
      "cell_type": "code",
      "source": [
        "list_cash_flow = [\n",
        "2500000, 5000000, -1000000, -2500000, 5000000, 10000000,\n",
        "-5000000, 7500000, 10000000, -1500000, 25000000, -2500000\n",
        "]\n",
        "total_pengeluaran, total_pemasukan = 0, 0\n",
        "for dana in list_cash_flow:\n",
        "    if dana > 0:\n",
        "        total_pemasukan += dana\n",
        "    else:\n",
        "        total_pengeluaran += dana\n",
        "total_pengeluaran *= -1\n",
        "print(total_pengeluaran) \n",
        "print(total_pemasukan)"
      ],
      "metadata": {
        "colab": {
          "base_uri": "https://localhost:8080/"
        },
        "id": "yxSuVAKgmZt2",
        "outputId": "29dca4c7-9f06-4929-f30c-b639a4b36075"
      },
      "execution_count": null,
      "outputs": [
        {
          "output_type": "stream",
          "name": "stdout",
          "text": [
            "12500000\n",
            "65000000\n"
          ]
        }
      ]
    },
    {
      "cell_type": "markdown",
      "source": [
        "**Chapter 5**"
      ],
      "metadata": {
        "id": "ITMcilSinaQo"
      }
    },
    {
      "cell_type": "markdown",
      "source": [
        "**Ekspedisi Pamanku**"
      ],
      "metadata": {
        "id": "HQFQch1tnSIN"
      }
    },
    {
      "cell_type": "code",
      "source": [
        "# Data\n",
        "uang_jalan = 1500000\n",
        "jumlah_hari = 31\n",
        "list_plat_nomor = [8993, 2198, 2501, 2735, 3772, 4837, 9152]\n",
        "# Pengecekan kendaraan dengan nomor pelat ganjil atau genap \n",
        "# Deklarasikan kendaraan_genap dan kendaraan_ganjil = 0\n",
        "kendaraan_genap = 0 \n",
        "kendaraan_ganjil = 0\n",
        "for plat_nomor in list_plat_nomor:\n",
        "    if plat_nomor % 2 == 0:\n",
        "        kendaraan_genap += 1 \n",
        "    else:\n",
        "        kendaraan_ganjil += 1\n",
        "# Total pengeluaran untuk kendaraan dengan nomor pelat ganjil \n",
        "# dan genap dalam 1 bulan\n",
        "i = 1\n",
        "total_pengeluaran = 0\n",
        "while i <= jumlah_hari:\n",
        "    if i % 2 == 0:\n",
        "        total_pengeluaran += (kendaraan_genap * uang_jalan)\n",
        "    else:\n",
        "        total_pengeluaran += (kendaraan_ganjil * uang_jalan) \n",
        "    i += 1\n",
        "# Cetak total pengeluaran\n",
        "print(total_pengeluaran)"
      ],
      "metadata": {
        "colab": {
          "base_uri": "https://localhost:8080/"
        },
        "id": "3xXTxDsonNXC",
        "outputId": "1100f663-2839-400e-ddf2-d6b755005538"
      },
      "execution_count": null,
      "outputs": [
        {
          "output_type": "stream",
          "name": "stdout",
          "text": [
            "163500000\n"
          ]
        }
      ]
    }
  ]
}